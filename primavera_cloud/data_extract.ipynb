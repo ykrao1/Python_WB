{
 "cells": [
  {
   "cell_type": "code",
   "execution_count": 1,
   "metadata": {},
   "outputs": [],
   "source": [
    "import requests \n",
    "import pandas as pd\n",
    "import base64"
   ]
  },
  {
   "cell_type": "markdown",
   "metadata": {},
   "source": [
    "#### Auth"
   ]
  },
  {
   "cell_type": "code",
   "execution_count": null,
   "metadata": {},
   "outputs": [],
   "source": [
    "def auth_opc():\n",
    "    SERVER_URL = 'primavera-us2.oraclecloud.com'\n",
    "    api_URL=f'http://{SERVER_URL}/api'\n",
    "    user = 'testuser'\n",
    "    password = 'testpwd'\n",
    "    url=f'https://{SERVER_URL}/primediscovery/apitoken/request?scope={api_URL}&user={user}&password={password}'\n",
    "\n",
    "    usrPass = f\"{user}:{password}\"\n",
    "    b64Val = base64.b64encode(usrPass.encode('ascii'))\n",
    "\n",
    "    headers = {\"Authorization\": f\"Basic {b64Val.decode('ascii')}\",\n",
    "               \"Content-type\": 'application/json'}\n",
    "    \n",
    "    r=requests.post(url, headers=headers, data={})\n",
    "\n",
    "    init_response = r.json()\n",
    "    accessToken = init_response['accessToken']\n",
    "    auth_tokens = init_response['requestHeaders']\n",
    "\n",
    "    auth_tokens[\"Authorization\"] = f\"Bearer {accessToken}\"\n",
    "    auth_tokens[\"Content-Type\"] = \"application/json\"\n",
    "    return auth_tokens"
   ]
  },
  {
   "cell_type": "markdown",
   "metadata": {},
   "source": [
    "#### Extract MetaData"
   ]
  },
  {
   "cell_type": "code",
   "execution_count": null,
   "metadata": {},
   "outputs": [],
   "source": [
    "def get_tables(meta_url, header):\n",
    "    tables_path = '/data/rest/dataservice/tables'\n",
    "    url = meta_url+tables_path\n",
    "    r=requests.get(url, headers=header, data={})\n",
    "    tbl_df = pd.json_normalize(r.json())\n",
    "    return tbl_df\n",
    "\n",
    "def get_columns(meta_url, header, table_name):\n",
    "    cols_path = f'/data/rest/dataservice/columns/{table_name}'\n",
    "    url = meta_url+cols_path\n",
    "    r=requests.get(url, headers=header, data={})\n",
    "    cols_df = pd.json_normalize(r.json())\n",
    "    cols = cols_df.columnName.to_list()\n",
    "    return cols"
   ]
  },
  {
   "cell_type": "markdown",
   "metadata": {},
   "source": [
    "#### Pagination"
   ]
  },
  {
   "cell_type": "code",
   "execution_count": null,
   "metadata": {},
   "outputs": [],
   "source": [
    "# Get Table Data \n",
    "def get_data(table_name, cols, headers,nkey,ntablename):\n",
    "    data_url = 'https://primavera-us2.oraclecloud.com'\n",
    "    run_qry = '/data/rest/dataservice/runquery'\n",
    "\n",
    "    query = {\n",
    "        \"name\":f\"Get Data for {table_name}\",\n",
    "        \"nextKey\": nkey,\n",
    "        \"nextTableName\": ntablename,\n",
    "        \"tables\":[{\n",
    "        \"tableName\": table_name,\n",
    "        \"columns\": cols\n",
    "        }]\n",
    "    }\n",
    "\n",
    "    res_data = requests.post(data_url+run_qry, headers=headers, json=query)\n",
    " \n",
    "    data_df,nextkey,nexttable = pd.json_normalize(res_data.json()['data'][table_name]),res_data.json()['data']['pagination'][0]['nextKey'],res_data.json()['data']['pagination'][0]['nextTableName']\n",
    "\n",
    "    return data_df,nextkey,nexttable"
   ]
  },
  {
   "cell_type": "markdown",
   "metadata": {},
   "source": [
    "#### Load Data for all Tables"
   ]
  },
  {
   "cell_type": "code",
   "execution_count": null,
   "metadata": {},
   "outputs": [],
   "source": [
    "headers = auth_opc()\n",
    "meta_url = 'http://primavera-us2.oraclecloud.com'\n",
    "\n",
    "tables_df = get_tables(meta_url, headers)\n",
    "tables_df.head()"
   ]
  },
  {
   "cell_type": "code",
   "execution_count": null,
   "metadata": {},
   "outputs": [],
   "source": [
    "for idx, row in tables_df.iterrows():\n",
    "    print(row.physicalTableName)\n",
    "    df = pd.DataFrame()\n",
    "    table_name = row.physicalTableName\n",
    "    cols = get_columns(meta_url, headers, table_name)\n",
    "    nkey=-999\n",
    "    while int(nkey)==-999 or (int(nkey) > 0 and int(nkey) != \"\") :\n",
    "        if int(nkey)==-999:\n",
    "            data_df,nkey,ntable = get_data(table_name, cols, headers,\"\",\"\")\n",
    "            data_final=data_df\n",
    "        else:\n",
    "            data_df,nkey,ntable = get_data(table_name, cols, headers,nkey,table_name)\n",
    "            data_final = pd.concat([data_final, data_df], ignore_index=True)\n",
    "            \n",
    "    data_final.to_csv(f'data\\{table_name}.csv',index=False)\n",
    "    if idx > 1:\n",
    "        break"
   ]
  }
 ],
 "metadata": {
  "kernelspec": {
   "display_name": "Python 3",
   "language": "python",
   "name": "python3"
  },
  "language_info": {
   "codemirror_mode": {
    "name": "ipython",
    "version": 3
   },
   "file_extension": ".py",
   "mimetype": "text/x-python",
   "name": "python",
   "nbconvert_exporter": "python",
   "pygments_lexer": "ipython3",
   "version": "3.12.2"
  }
 },
 "nbformat": 4,
 "nbformat_minor": 2
}
